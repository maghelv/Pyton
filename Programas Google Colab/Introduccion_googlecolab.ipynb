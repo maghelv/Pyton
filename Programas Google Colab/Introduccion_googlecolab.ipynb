{
  "nbformat": 4,
  "nbformat_minor": 0,
  "metadata": {
    "colab": {
      "provenance": []
    },
    "kernelspec": {
      "name": "python3",
      "display_name": "Python 3"
    },
    "language_info": {
      "name": "python"
    }
  },
  "cells": [
    {
      "cell_type": "code",
      "execution_count": 1,
      "metadata": {
        "colab": {
          "base_uri": "https://localhost:8080/"
        },
        "id": "g_nvEjo1yObz",
        "outputId": "ae7eec02-aed3-47d0-a8ae-d4ef2dfa9dc8"
      },
      "outputs": [
        {
          "output_type": "stream",
          "name": "stdout",
          "text": [
            "Hello world\n"
          ]
        }
      ],
      "source": [
        "print ('Hello world')"
      ]
    },
    {
      "cell_type": "markdown",
      "source": [
        "# Operaciones Aritmeticas"
      ],
      "metadata": {
        "id": "8ujYa0MNzTzV"
      }
    },
    {
      "cell_type": "markdown",
      "source": [
        "# Suma"
      ],
      "metadata": {
        "id": "BbaZEb8Gzhrv"
      }
    },
    {
      "cell_type": "code",
      "source": [
        "4 + 5 #Suma de literales"
      ],
      "metadata": {
        "colab": {
          "base_uri": "https://localhost:8080/"
        },
        "id": "BUqrYOAAzlUj",
        "outputId": "8d057037-6b0e-4baf-8d2e-25f91afb2f61"
      },
      "execution_count": 2,
      "outputs": [
        {
          "output_type": "execute_result",
          "data": {
            "text/plain": [
              "9"
            ]
          },
          "metadata": {},
          "execution_count": 2
        }
      ]
    },
    {
      "cell_type": "code",
      "source": [
        "10 - 2"
      ],
      "metadata": {
        "colab": {
          "base_uri": "https://localhost:8080/"
        },
        "id": "_IhqwmpU0goT",
        "outputId": "f463f056-0ea1-4e55-8e9d-781354c8a0bd"
      },
      "execution_count": 3,
      "outputs": [
        {
          "output_type": "execute_result",
          "data": {
            "text/plain": [
              "8"
            ]
          },
          "metadata": {},
          "execution_count": 3
        }
      ]
    },
    {
      "cell_type": "markdown",
      "source": [
        "## Multiplicacion"
      ],
      "metadata": {
        "id": "g1JI6mQj0p4J"
      }
    },
    {
      "cell_type": "code",
      "source": [
        "4 * 8"
      ],
      "metadata": {
        "colab": {
          "base_uri": "https://localhost:8080/"
        },
        "id": "BRU5dtpF0s3C",
        "outputId": "31a6c610-e967-4f60-b205-ff7520bd47c0"
      },
      "execution_count": 4,
      "outputs": [
        {
          "output_type": "execute_result",
          "data": {
            "text/plain": [
              "32"
            ]
          },
          "metadata": {},
          "execution_count": 4
        }
      ]
    },
    {
      "cell_type": "markdown",
      "source": [
        "## Potencia"
      ],
      "metadata": {
        "id": "Vgtszy0u04g6"
      }
    },
    {
      "cell_type": "code",
      "source": [
        "2 ** 3"
      ],
      "metadata": {
        "colab": {
          "base_uri": "https://localhost:8080/"
        },
        "id": "_Puxp7Bl03Nk",
        "outputId": "62379c54-c04e-4177-bddd-49df916f0b08"
      },
      "execution_count": 6,
      "outputs": [
        {
          "output_type": "execute_result",
          "data": {
            "text/plain": [
              "8"
            ]
          },
          "metadata": {},
          "execution_count": 6
        }
      ]
    },
    {
      "cell_type": "markdown",
      "source": [
        "## Division"
      ],
      "metadata": {
        "id": "k9VZX3261Mm5"
      }
    },
    {
      "cell_type": "code",
      "source": [
        "3 / 58"
      ],
      "metadata": {
        "colab": {
          "base_uri": "https://localhost:8080/"
        },
        "id": "M0g4gO2h1Ow_",
        "outputId": "7a832963-968e-4832-c307-9830a60eefeb"
      },
      "execution_count": 7,
      "outputs": [
        {
          "output_type": "execute_result",
          "data": {
            "text/plain": [
              "0.05172413793103448"
            ]
          },
          "metadata": {},
          "execution_count": 7
        }
      ]
    },
    {
      "cell_type": "code",
      "source": [
        "1 // 2"
      ],
      "metadata": {
        "colab": {
          "base_uri": "https://localhost:8080/"
        },
        "id": "5ISiMu6t1mKA",
        "outputId": "99b8b77c-50c6-454f-baef-5f7a5875e3a2"
      },
      "execution_count": 11,
      "outputs": [
        {
          "output_type": "execute_result",
          "data": {
            "text/plain": [
              "0"
            ]
          },
          "metadata": {},
          "execution_count": 11
        }
      ]
    },
    {
      "cell_type": "code",
      "source": [
        "10%2"
      ],
      "metadata": {
        "colab": {
          "base_uri": "https://localhost:8080/"
        },
        "id": "cFm963Oi1zbn",
        "outputId": "a7ba19d6-5515-426e-f733-cc570b8814aa"
      },
      "execution_count": 10,
      "outputs": [
        {
          "output_type": "execute_result",
          "data": {
            "text/plain": [
              "0"
            ]
          },
          "metadata": {},
          "execution_count": 10
        }
      ]
    },
    {
      "cell_type": "markdown",
      "source": [
        "# Tipos de datos y Variables"
      ],
      "metadata": {
        "id": "FdTNoA-_2SZn"
      }
    },
    {
      "cell_type": "code",
      "source": [
        "# Variable Entera\n",
        "numero1 = 10\n",
        "type(numero1)"
      ],
      "metadata": {
        "colab": {
          "base_uri": "https://localhost:8080/"
        },
        "id": "O79chl0_2Wnb",
        "outputId": "ddd6b7d4-dbae-42c0-a38e-0085ab66cd1c"
      },
      "execution_count": 12,
      "outputs": [
        {
          "output_type": "execute_result",
          "data": {
            "text/plain": [
              "int"
            ]
          },
          "metadata": {},
          "execution_count": 12
        }
      ]
    },
    {
      "cell_type": "code",
      "source": [
        "numero2 = 20\n",
        "resultado = numero1 * numero2\n",
        "resultado"
      ],
      "metadata": {
        "colab": {
          "base_uri": "https://localhost:8080/"
        },
        "id": "RWLRdpHf3L-J",
        "outputId": "c4941939-8330-49ee-d837-c65aee32cb8b"
      },
      "execution_count": 13,
      "outputs": [
        {
          "output_type": "execute_result",
          "data": {
            "text/plain": [
              "200"
            ]
          },
          "metadata": {},
          "execution_count": 13
        }
      ]
    },
    {
      "cell_type": "code",
      "source": [
        "# flotantes\n",
        "numero1 = 45.6\n",
        "type(numero1)"
      ],
      "metadata": {
        "colab": {
          "base_uri": "https://localhost:8080/"
        },
        "id": "MCJ5inBz3qc_",
        "outputId": "4c2b2e6d-cba1-497c-cbf5-4aa075b9d848"
      },
      "execution_count": 14,
      "outputs": [
        {
          "output_type": "execute_result",
          "data": {
            "text/plain": [
              "float"
            ]
          },
          "metadata": {},
          "execution_count": 14
        }
      ]
    },
    {
      "cell_type": "code",
      "source": [
        "print('El resultado es: ', resultado)"
      ],
      "metadata": {
        "colab": {
          "base_uri": "https://localhost:8080/"
        },
        "id": "pZaG8BrW3-Sf",
        "outputId": "da7b896b-8f17-45b4-cb1b-a498693a7deb"
      },
      "execution_count": 15,
      "outputs": [
        {
          "output_type": "stream",
          "name": "stdout",
          "text": [
            "El resultado es:  200\n"
          ]
        }
      ]
    },
    {
      "cell_type": "code",
      "source": [
        "print('El resultado es: ' + resultado)"
      ],
      "metadata": {
        "colab": {
          "base_uri": "https://localhost:8080/",
          "height": 141
        },
        "id": "_T8RbG7v4Srj",
        "outputId": "78ef6b5d-cb78-42d4-8abf-8c0107d9d4fe"
      },
      "execution_count": 16,
      "outputs": [
        {
          "output_type": "error",
          "ename": "TypeError",
          "evalue": "can only concatenate str (not \"int\") to str",
          "traceback": [
            "\u001b[0;31m---------------------------------------------------------------------------\u001b[0m",
            "\u001b[0;31mTypeError\u001b[0m                                 Traceback (most recent call last)",
            "\u001b[0;32m<ipython-input-16-960036592fdd>\u001b[0m in \u001b[0;36m<cell line: 1>\u001b[0;34m()\u001b[0m\n\u001b[0;32m----> 1\u001b[0;31m \u001b[0mprint\u001b[0m\u001b[0;34m(\u001b[0m\u001b[0;34m'El resultado es: '\u001b[0m \u001b[0;34m+\u001b[0m \u001b[0mresultado\u001b[0m\u001b[0;34m)\u001b[0m\u001b[0;34m\u001b[0m\u001b[0;34m\u001b[0m\u001b[0m\n\u001b[0m",
            "\u001b[0;31mTypeError\u001b[0m: can only concatenate str (not \"int\") to str"
          ]
        }
      ]
    },
    {
      "cell_type": "code",
      "source": [
        "print('El resultado es: ' + str(resultado))"
      ],
      "metadata": {
        "colab": {
          "base_uri": "https://localhost:8080/"
        },
        "id": "POZ3IyMR4bJo",
        "outputId": "eb8aed31-1055-429b-ed9a-4718d75adddb"
      },
      "execution_count": 17,
      "outputs": [
        {
          "output_type": "stream",
          "name": "stdout",
          "text": [
            "El resultado es: 200\n"
          ]
        }
      ]
    },
    {
      "cell_type": "code",
      "source": [
        "print('Hola', \"Como estas\", resultado)"
      ],
      "metadata": {
        "colab": {
          "base_uri": "https://localhost:8080/"
        },
        "id": "hQ7uLj724-CM",
        "outputId": "169f2d6c-0d0d-44ee-f694-53d2fba21404"
      },
      "execution_count": 18,
      "outputs": [
        {
          "output_type": "stream",
          "name": "stdout",
          "text": [
            "Hola Como estas 200\n"
          ]
        }
      ]
    },
    {
      "cell_type": "code",
      "source": [
        "print('Hola', \"Como estas\", \"'TDA'\", resultado)"
      ],
      "metadata": {
        "colab": {
          "base_uri": "https://localhost:8080/"
        },
        "id": "d4JuT9YY5RLY",
        "outputId": "1084450c-1305-42a5-8082-6b7830dbd592"
      },
      "execution_count": 22,
      "outputs": [
        {
          "output_type": "stream",
          "name": "stdout",
          "text": [
            "Hola Como estas 'TDA' 200\n"
          ]
        }
      ]
    },
    {
      "cell_type": "code",
      "source": [
        "print('Hola', \"Como estas \\'TDA\\'\" , resultado)"
      ],
      "metadata": {
        "colab": {
          "base_uri": "https://localhost:8080/"
        },
        "id": "acpZR5fE58WY",
        "outputId": "0484daaa-9af9-49ef-c3bf-ae78d6764fab"
      },
      "execution_count": 24,
      "outputs": [
        {
          "output_type": "stream",
          "name": "stdout",
          "text": [
            "Hola Como estas 'TDA' 200\n"
          ]
        }
      ]
    },
    {
      "cell_type": "code",
      "source": [
        "valor= int(input('Introduce el valor: '))"
      ],
      "metadata": {
        "colab": {
          "base_uri": "https://localhost:8080/"
        },
        "id": "2eyo2JoQ7JXI",
        "outputId": "b2fafc86-2d75-4345-c9b9-ae75114f0e5f"
      },
      "execution_count": 25,
      "outputs": [
        {
          "name": "stdout",
          "output_type": "stream",
          "text": [
            "Introduce el valor: 20\n"
          ]
        }
      ]
    },
    {
      "cell_type": "code",
      "source": [
        "print(valor)"
      ],
      "metadata": {
        "colab": {
          "base_uri": "https://localhost:8080/"
        },
        "id": "LLB2jboR7hMP",
        "outputId": "a9986866-d56b-40f1-bc2e-8e3bac88a151"
      },
      "execution_count": 26,
      "outputs": [
        {
          "output_type": "stream",
          "name": "stdout",
          "text": [
            "20\n"
          ]
        }
      ]
    },
    {
      "cell_type": "code",
      "source": [
        "# Numeros booleanos\n",
        "valor = True\n",
        "valor"
      ],
      "metadata": {
        "colab": {
          "base_uri": "https://localhost:8080/"
        },
        "id": "hSUJwf-x8A7Q",
        "outputId": "39c6ec82-5155-4b5c-dc14-0ad39aac8051"
      },
      "execution_count": 28,
      "outputs": [
        {
          "output_type": "execute_result",
          "data": {
            "text/plain": [
              "True"
            ]
          },
          "metadata": {},
          "execution_count": 28
        }
      ]
    },
    {
      "cell_type": "code",
      "source": [
        "type(valor)"
      ],
      "metadata": {
        "colab": {
          "base_uri": "https://localhost:8080/"
        },
        "id": "9Skdvm3f8JqU",
        "outputId": "7da8620d-29a6-4095-e70c-67d7ed12c403"
      },
      "execution_count": 29,
      "outputs": [
        {
          "output_type": "execute_result",
          "data": {
            "text/plain": [
              "bool"
            ]
          },
          "metadata": {},
          "execution_count": 29
        }
      ]
    },
    {
      "cell_type": "code",
      "source": [
        "saludo = 'Hola'\n",
        "saludo"
      ],
      "metadata": {
        "colab": {
          "base_uri": "https://localhost:8080/",
          "height": 35
        },
        "id": "CyBjsVFs8iPI",
        "outputId": "ac3a1e42-783d-4377-e5d8-4b0897acf727"
      },
      "execution_count": 30,
      "outputs": [
        {
          "output_type": "execute_result",
          "data": {
            "text/plain": [
              "'Hola'"
            ],
            "application/vnd.google.colaboratory.intrinsic+json": {
              "type": "string"
            }
          },
          "metadata": {},
          "execution_count": 30
        }
      ]
    },
    {
      "cell_type": "code",
      "source": [
        "print(saludo, 'Como estas', sep='******')"
      ],
      "metadata": {
        "colab": {
          "base_uri": "https://localhost:8080/"
        },
        "id": "JvM-Ti9Y8pLX",
        "outputId": "7ce702b0-7643-44d4-eb97-effbb5926f9a"
      },
      "execution_count": 32,
      "outputs": [
        {
          "output_type": "stream",
          "name": "stdout",
          "text": [
            "Hola******Como estas\n"
          ]
        }
      ]
    },
    {
      "cell_type": "markdown",
      "source": [
        "# Prioridades de los Operadores"
      ],
      "metadata": {
        "id": "NAMNvwmM9kzG"
      }
    },
    {
      "cell_type": "code",
      "source": [
        "for i in range (10):\n",
        "  print('Mi prioridad es el estudio')"
      ],
      "metadata": {
        "colab": {
          "base_uri": "https://localhost:8080/"
        },
        "id": "2XHNKlGm9jJq",
        "outputId": "fafe8c6a-2eba-47f7-a9e7-adcca97768a1"
      },
      "execution_count": 33,
      "outputs": [
        {
          "output_type": "stream",
          "name": "stdout",
          "text": [
            "Mi prioridad es el estudio\n",
            "Mi prioridad es el estudio\n",
            "Mi prioridad es el estudio\n",
            "Mi prioridad es el estudio\n",
            "Mi prioridad es el estudio\n",
            "Mi prioridad es el estudio\n",
            "Mi prioridad es el estudio\n",
            "Mi prioridad es el estudio\n",
            "Mi prioridad es el estudio\n",
            "Mi prioridad es el estudio\n"
          ]
        }
      ]
    },
    {
      "cell_type": "code",
      "source": [
        "4 + 5 * 10"
      ],
      "metadata": {
        "colab": {
          "base_uri": "https://localhost:8080/"
        },
        "id": "ycqnQpJO-DIG",
        "outputId": "41727e41-aa95-4c74-a2a5-5f420a727193"
      },
      "execution_count": 34,
      "outputs": [
        {
          "output_type": "execute_result",
          "data": {
            "text/plain": [
              "54"
            ]
          },
          "metadata": {},
          "execution_count": 34
        }
      ]
    },
    {
      "cell_type": "code",
      "source": [
        "(4+6) * 10"
      ],
      "metadata": {
        "colab": {
          "base_uri": "https://localhost:8080/"
        },
        "id": "iazHBY_h-Nbs",
        "outputId": "9bd0da39-de50-4fc0-f9f0-5715a1b5b8d1"
      },
      "execution_count": 35,
      "outputs": [
        {
          "output_type": "execute_result",
          "data": {
            "text/plain": [
              "100"
            ]
          },
          "metadata": {},
          "execution_count": 35
        }
      ]
    },
    {
      "cell_type": "code",
      "source": [
        "20 / 2 * 3"
      ],
      "metadata": {
        "colab": {
          "base_uri": "https://localhost:8080/"
        },
        "id": "US2VZYQo-W1W",
        "outputId": "ae71603e-fa81-45d7-aa66-31b22af85f6d"
      },
      "execution_count": 36,
      "outputs": [
        {
          "output_type": "execute_result",
          "data": {
            "text/plain": [
              "30.0"
            ]
          },
          "metadata": {},
          "execution_count": 36
        }
      ]
    },
    {
      "cell_type": "code",
      "source": [
        "1 / 2 * 3"
      ],
      "metadata": {
        "colab": {
          "base_uri": "https://localhost:8080/"
        },
        "id": "oP8KatSK-nwp",
        "outputId": "9d2caccb-7021-4e0c-fea9-5e134aac4dbc"
      },
      "execution_count": 37,
      "outputs": [
        {
          "output_type": "execute_result",
          "data": {
            "text/plain": [
              "1.5"
            ]
          },
          "metadata": {},
          "execution_count": 37
        }
      ]
    },
    {
      "cell_type": "code",
      "source": [
        "1 // 2 * 3"
      ],
      "metadata": {
        "colab": {
          "base_uri": "https://localhost:8080/"
        },
        "id": "Cr3dzyY3-sDy",
        "outputId": "2f744c7e-d545-43fd-dcba-079f2133b51e"
      },
      "execution_count": 38,
      "outputs": [
        {
          "output_type": "execute_result",
          "data": {
            "text/plain": [
              "0"
            ]
          },
          "metadata": {},
          "execution_count": 38
        }
      ]
    },
    {
      "cell_type": "markdown",
      "source": [
        "# Operadores Relacionales"
      ],
      "metadata": {
        "id": "_JjUtuYC_dGF"
      }
    },
    {
      "cell_type": "code",
      "source": [
        "variable = 10.2\n",
        "variable2 = variable == 10.2\n",
        "variable2"
      ],
      "metadata": {
        "colab": {
          "base_uri": "https://localhost:8080/"
        },
        "id": "2ejghLPO_Eml",
        "outputId": "27e0541c-ed85-4963-8115-6532ff867b87"
      },
      "execution_count": 40,
      "outputs": [
        {
          "output_type": "execute_result",
          "data": {
            "text/plain": [
              "True"
            ]
          },
          "metadata": {},
          "execution_count": 40
        }
      ]
    },
    {
      "cell_type": "code",
      "source": [
        "type(variable2)"
      ],
      "metadata": {
        "colab": {
          "base_uri": "https://localhost:8080/"
        },
        "id": "d1yJF82KAExL",
        "outputId": "587a074d-5a61-4163-ced9-174f03849ef3"
      },
      "execution_count": 41,
      "outputs": [
        {
          "output_type": "execute_result",
          "data": {
            "text/plain": [
              "bool"
            ]
          },
          "metadata": {},
          "execution_count": 41
        }
      ]
    },
    {
      "cell_type": "code",
      "source": [],
      "metadata": {
        "id": "pZ93vEWxAEta"
      },
      "execution_count": null,
      "outputs": []
    }
  ]
}