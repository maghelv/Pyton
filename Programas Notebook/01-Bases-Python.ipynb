{
 "cells": [
  {
   "cell_type": "markdown",
   "metadata": {},
   "source": [
    "# Caracteres de escape y nuevas lineas en python"
   ]
  },
  {
   "cell_type": "code",
   "execution_count": 5,
   "metadata": {
    "metadata": {}
   },
   "outputs": [
    {
     "name": "stdout",
     "output_type": "stream",
     "text": [
      "la witsi witsi araña\n",
      "subio a su telaraña\n",
      "la witsi witsi araña subio a su telaraña\n"
     ]
    }
   ],
   "source": [
    "print('la witsi witsi araña\\nsubio a su telaraña')\n",
    "print(\"la witsi witsi araña subio a su telaraña\")"
   ]
  },
  {
   "cell_type": "code",
   "execution_count": 11,
   "metadata": {
    "metadata": {}
   },
   "outputs": [
    {
     "name": "stdout",
     "output_type": "stream",
     "text": [
      "La witsi araña\\tarantula\n"
     ]
    }
   ],
   "source": [
    "print('La witsi araña\\\\tarantula')"
   ]
  },
  {
   "cell_type": "code",
   "execution_count": 14,
   "metadata": {
    "metadata": {}
   },
   "outputs": [
    {
     "name": "stdout",
     "output_type": "stream",
     "text": [
      "El resultado es: 10\n"
     ]
    }
   ],
   "source": [
    "x = 10\n",
    "print(\"El resultado es: \" + str (x))"
   ]
  },
  {
   "cell_type": "markdown",
   "metadata": {},
   "source": [
    "## usar las variables dentro de la cadena"
   ]
  },
  {
   "cell_type": "code",
   "execution_count": 30,
   "metadata": {
    "metadata": {}
   },
   "outputs": [
    {
     "ename": "TypeError",
     "evalue": "can only concatenate str (not \"set\") to str",
     "output_type": "error",
     "traceback": [
      "\u001b[1;31m---------------------------------------------------------------------------\u001b[0m",
      "\u001b[1;31mTypeError\u001b[0m                                 Traceback (most recent call last)",
      "Cell \u001b[1;32mIn[30], line 2\u001b[0m\n\u001b[0;32m      1\u001b[0m x\u001b[38;5;241m=\u001b[39m\u001b[38;5;241m22\u001b[39m\n\u001b[1;32m----> 2\u001b[0m \u001b[38;5;28mprint\u001b[39m(\u001b[38;5;124;43mf\u001b[39;49m\u001b[38;5;124;43m'\u001b[39;49m\u001b[38;5;124;43mEl valor de x es:\u001b[39;49m\u001b[38;5;124;43m'\u001b[39;49m\u001b[43m \u001b[49m\u001b[38;5;241;43m+\u001b[39;49m\u001b[43m \u001b[49m\u001b[43m{\u001b[49m\u001b[43mx\u001b[49m\u001b[43m}\u001b[49m)\n",
      "\u001b[1;31mTypeError\u001b[0m: can only concatenate str (not \"set\") to str"
     ]
    }
   ],
   "source": [
    "x=22\n",
    "print(f'El valor de x es:')"
   ]
  },
  {
   "cell_type": "code",
   "execution_count": 18,
   "metadata": {
    "metadata": {}
   },
   "outputs": [
    {
     "name": "stdout",
     "output_type": "stream",
     "text": [
      "el valor de la suma es : 57.900000000000006\n"
     ]
    }
   ],
   "source": [
    "x = 45.6\n",
    "y = 12.3\n",
    "print(f'el valor de la suma es : str{x+y}')"
   ]
  },
  {
   "cell_type": "code",
   "execution_count": 29,
   "metadata": {
    "metadata": {}
   },
   "outputs": [
    {
     "name": "stdout",
     "output_type": "stream",
     "text": [
      "el valor de la suma es :57.900000000000006\n",
      "57.900000000000006\n",
      "57.9\n",
      "la suma de 45.6 + 12.3 = 57.900000000000006\n",
      "la suma de 45.6 + 12.3 = 57.9\n"
     ]
    }
   ],
   "source": [
    "x = 45.6\n",
    "y = 12.3\n",
    "print(f'el valor de la suma es :' + str (x+y))\n",
    "print(str(x+y))\n",
    "print(str(round(x+y,2)))\n",
    "\n",
    "# utilanzo el string literal\n",
    "print('la suma de ' + str(x) + ' + ' + str(y) + ' = ' + str(x+y))\n",
    "print(f'la suma de {x} + {y} = {round(x+y,2)}')"
   ]
  },
  {
   "cell_type": "markdown",
   "metadata": {},
   "source": [
    "# Usando Multiples argumentos"
   ]
  },
  {
   "cell_type": "code",
   "execution_count": 34,
   "metadata": {
    "metadata": {}
   },
   "outputs": [
    {
     "name": "stdout",
     "output_type": "stream",
     "text": [
      "La arañaMe mordio el dedo\n",
      "La araña me mordio mis 22 dedos\n",
      "Ya tenemos Hambre\n"
     ]
    }
   ],
   "source": [
    "print('La araña' + 'Me mordio el dedo')\n",
    "print('La araña', 'me mordio', 'mis', x , 'dedos')\n",
    "print('Ya tenemos', 'Hambre')\n"
   ]
  },
  {
   "cell_type": "markdown",
   "metadata": {},
   "source": [
    "# Argumentos de palabras claves"
   ]
  },
  {
   "cell_type": "markdown",
   "metadata": {},
   "source": [
    "Python ofrece otro mecanismo para el paso de argumentos, que puede ser útil cuando deseas convencer a la función print() para que cambie un poco su comportamiento.\n",
    "No vamos a explicarlo en profundidad ahora. Planeamos hacerlo cuando hablemos de funciones. Por ahora, simplemente queremos mostrarte cómo funciona. Siéntete libre de usarlo en tus propios programas.\n",
    "El mecanismo se llama argumentos de palabras clave. El nombre proviene del hecho de que el significado de estos argumentos se toma no de su ubicación (posición) sino de la palabra especial (palabra clave) utilizada para identificarlos."
   ]
  },
  {
   "cell_type": "code",
   "execution_count": 38,
   "metadata": {
    "metadata": {}
   },
   "outputs": [
    {
     "name": "stdout",
     "output_type": "stream",
     "text": [
      "Hola señor\n",
      "\n",
      "Hola benito\n"
     ]
    }
   ],
   "source": [
    "print('Hola señor')\n",
    "print()\n",
    "print('Hola benito')"
   ]
  },
  {
   "cell_type": "code",
   "execution_count": 40,
   "metadata": {
    "metadata": {}
   },
   "outputs": [
    {
     "name": "stdout",
     "output_type": "stream",
     "text": [
      "Hola como estas vaca grande\n",
      "hola yo soy tu padre\n"
     ]
    }
   ],
   "source": [
    "print('Hola como estas vaca grande',end ='\\n')\n",
    "print('hola yo soy tu padre')"
   ]
  },
  {
   "cell_type": "code",
   "execution_count": 42,
   "metadata": {
    "metadata": {}
   },
   "outputs": [
    {
     "name": "stdout",
     "output_type": "stream",
     "text": [
      "Hola soy tu miche Con limon y sal\n"
     ]
    }
   ],
   "source": [
    "print('Hola soy tu miche', end=\" \")\n",
    "print('Con limon y sal')"
   ]
  },
  {
   "cell_type": "markdown",
   "metadata": {},
   "source": [
    "Para usarlo, es necesario conocer algunas reglas:\n",
    "\n",
    "- Un argumento de palabra clave consta de tres elementos: una palabra clave se identifica el argumento (end aquí); un signo de igual (=); y un valor asignado a ese argumento;\n",
    "- cualquier argumento de palabra clave debe colocarse después del último argumento posicional (esto es muy importante)\n",
    "\n",
    "En nuestro ejemplo, hemos utilizado el argumento de palabra clave end, y lo hemos configurado como cadena que contiene un espacio\n",
    "\n",
    "Como puedes ver, el argumento de palabra clave end determina los caracteres que la función print() envía a la salida una vez que llega al final de sus argumentos posicionales.\n",
    "\n",
    "El comportamiento predeterminado refleja la situación en la que el argumento de palabra clave end se usa implícitamente de la siguiente manera: end=\"\\n\"."
   ]
  },
  {
   "cell_type": "code",
   "execution_count": 44,
   "metadata": {
    "metadata": {}
   },
   "outputs": [
    {
     "name": "stdout",
     "output_type": "stream",
     "text": [
      "Hola mundo*estoy aqui\n"
     ]
    }
   ],
   "source": [
    "print('Hola mundo', end='*')\n",
    "print('estoy aqui')"
   ]
  },
  {
   "cell_type": "code",
   "execution_count": 46,
   "metadata": {
    "metadata": {}
   },
   "outputs": [
    {
     "name": "stdout",
     "output_type": "stream",
     "text": [
      "Hola-como-estas-America-Campeon\n"
     ]
    }
   ],
   "source": [
    "#Palabra clave sep\n",
    "print('Hola', 'como', 'estas', 'America', 'Campeon', sep='-')"
   ]
  },
  {
   "cell_type": "code",
   "execution_count": 51,
   "metadata": {
    "metadata": {}
   },
   "outputs": [
    {
     "name": "stdout",
     "output_type": "stream",
     "text": [
      "Hola-como-estas-America-Campeon**Soy/la/comadreja/de/Cartoon/Network\n",
      "tengo arta hambre\n"
     ]
    }
   ],
   "source": [
    "print('Hola', 'como', 'estas', 'America', 'Campeon', sep='-', end='**')\n",
    "print('Soy','la', 'comadreja','de','Cartoon','Network', sep='/')\n",
    "print(\"tengo arta hambre\")"
   ]
  },
  {
   "cell_type": "markdown",
   "metadata": {},
   "source": [
    "# LAB La funcion print() y sus argumentos"
   ]
  },
  {
   "cell_type": "markdown",
   "metadata": {},
   "source": [
    "## Escenario\n",
    "\n",
    "Modifica la primera línea de código en el editor, usando las palabras claves reservadas sep y end, para que se obtenga la salida esperada. Emplea dos funciones print() en el editor.\n",
    "\n",
    "No cambies nada en la segunda invocación del print()."
   ]
  },
  {
   "cell_type": "markdown",
   "metadata": {},
   "source": [
    "``` python\n",
    "print(\"Programming\",\"Essentials\",\"in\")\n",
    "print(\"Python\")\n",
    "```"
   ]
  },
  {
   "cell_type": "markdown",
   "metadata": {},
   "source": [
    "## Salida Esperada"
   ]
  },
  {
   "cell_type": "markdown",
   "metadata": {},
   "source": [
    "```\n",
    "Programming***Essentiials***in...Python\n",
    "```"
   ]
  },
  {
   "cell_type": "code",
   "execution_count": 55,
   "metadata": {
    "metadata": {}
   },
   "outputs": [
    {
     "name": "stdout",
     "output_type": "stream",
     "text": [
      "Programming Essentians in\n",
      "Python\n"
     ]
    }
   ],
   "source": [
    "print(\"Programming\",\"Essentians\",\"in\")\n",
    "print(\"Python\")"
   ]
  },
  {
   "cell_type": "code",
   "execution_count": 56,
   "metadata": {
    "metadata": {}
   },
   "outputs": [
    {
     "name": "stdout",
     "output_type": "stream",
     "text": [
      "Programming***Essentians***in...Python\n"
     ]
    }
   ],
   "source": [
    "print(\"Programming\",\"Essentians\",\"in\",sep='***' ,end='...')\n",
    "print(\"Python\")"
   ]
  }
 ],
 "metadata": {
  "kernelspec": {
   "display_name": "Python 3",
   "language": "python",
   "name": "python3"
  },
  "language_info": {
   "codemirror_mode": {
    "name": "ipython",
    "version": 3
   },
   "file_extension": ".py",
   "mimetype": "text/x-python",
   "name": "python",
   "nbconvert_exporter": "python",
   "pygments_lexer": "ipython3",
   "version": "3.12.2"
  }
 },
 "nbformat": 4,
 "nbformat_minor": 2
}
