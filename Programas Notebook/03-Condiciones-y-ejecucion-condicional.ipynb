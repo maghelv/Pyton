{
 "cells": [
  {
   "cell_type": "markdown",
   "metadata": {},
   "source": [
    "# Condiciones y Ejecucion condicional"
   ]
  },
  {
   "cell_type": "markdown",
   "metadata": {},
   "source": []
  },
  {
   "cell_type": "markdown",
   "metadata": {},
   "source": [
    "## Ejemplo 1"
   ]
  },
  {
   "cell_type": "code",
   "execution_count": 9,
   "metadata": {},
   "outputs": [
    {
     "name": "stdout",
     "output_type": "stream",
     "text": [
      "El numero mayor es 98\n"
     ]
    }
   ],
   "source": [
    "# se leen dos numeros\n",
    "numero1 = float(input(\"Ingresa el primer numero: \"))\n",
    "numero2 = int(input(\"Ingresa el valor mas grande: \"))\n",
    "\n",
    "#Elegir el numero mas grande\n",
    "if numero1 > numero2:\n",
    "    numero_mayor = numero1\n",
    "else: \n",
    "    numero_mayor = numero2\n",
    "    \n",
    "print(f'El numero mayor es {numero_mayor}')"
   ]
  },
  {
   "cell_type": "code",
   "execution_count": 12,
   "metadata": {},
   "outputs": [
    {
     "name": "stdout",
     "output_type": "stream",
     "text": [
      "El numero mayor es 88\n",
      "El numero mayor es 88\n"
     ]
    }
   ],
   "source": [
    "numero1 = float(input(\"Ingresa el primer numero: \"))\n",
    "numero2 = int(input(\"Ingresa el valor mas grande: \"))\n",
    "\n",
    "if numero1 > numero2:\n",
    "    numero_mayor = numero1\n",
    "    print(f'El numero mayor es {numero_mayor}')\n",
    "else: \n",
    "    numero_mayor = numero2\n",
    "    print(f'El numero mayor es {numero_mayor}')\n",
    "\n",
    "\n",
    "print(f'El numero mayor es {numero_mayor}')"
   ]
  },
  {
   "cell_type": "markdown",
   "metadata": {},
   "source": [
    "## Ejemplo 2\n",
    "\n",
    "Encontrar el numero mas grande de tres numeros"
   ]
  },
  {
   "cell_type": "code",
   "execution_count": 26,
   "metadata": {},
   "outputs": [
    {
     "name": "stdout",
     "output_type": "stream",
     "text": [
      "El numero mayor es 9 \n"
     ]
    }
   ],
   "source": [
    "nu1 = int(input(\"Ingresa el primer valor: \"))\n",
    "nu2 = int(input(\"Ingresa el segudo valor: \"))\n",
    "nu3 = int(input(\"Ingresa el tercer valor: \"))\n",
    "\n",
    "numero_mayor = nu1\n",
    "\n",
    "if nu2 > numero_mayor:\n",
    "    numero_mayor = nu2\n",
    "elif nu3 > numero_mayor:\n",
    "    numero_mayor = nu3\n",
    "\n",
    "print(f'El numero mayor es {numero_mayor} ')"
   ]
  },
  {
   "cell_type": "code",
   "execution_count": 31,
   "metadata": {},
   "outputs": [
    {
     "name": "stdout",
     "output_type": "stream",
     "text": [
      "EL numero mayor es 10\n"
     ]
    }
   ],
   "source": [
    "nu1 = int(input(\"Ingresa el primer valor: \"))\n",
    "nu2 = int(input(\"Ingresa el segudo valor: \"))\n",
    "nu3 = int(input(\"Ingresa el tercer valor: \"))\n",
    "\n",
    "if nu1>nu2 and nu1>3:\n",
    "    numero_mayor = nu1\n",
    "elif nu2>nu1 and nu2>nu3:\n",
    "    numero_mayor = nu2\n",
    "else: \n",
    "    numero_mayor = nu3\n",
    "\n",
    "print(f'EL numero mayor es {numero_mayor}')"
   ]
  },
  {
   "cell_type": "code",
   "execution_count": 36,
   "metadata": {},
   "outputs": [
    {
     "name": "stdout",
     "output_type": "stream",
     "text": [
      "El numero mayor es 8\n"
     ]
    }
   ],
   "source": [
    "nu1 = int(input(\"Ingresa el primer valor: \"))\n",
    "nu2 = int(input(\"Ingresa el segudo valor: \"))\n",
    "nu3 = int(input(\"Ingresa el tercer valor: \"))\n",
    "\n",
    "numero_mayor = nu1\n",
    "\n",
    "if nu2 > numero_mayor:\n",
    "    numero_mayor = nu2\n",
    "if nu2 > numero_mayor:\n",
    "    numero_mayor = nu3\n",
    "\n",
    "print(f'El numero mayor es {numero_mayor}')\n"
   ]
  },
  {
   "cell_type": "markdown",
   "metadata": {},
   "source": [
    "# LAB Operadores de comparacion y ecucion condicional\n",
    "\n",
    "Como seguramente sabrás, debido a algunas razones astronómicas, el año puede ser bisiesto o común. Los primeros tienen una duración de 366 días, mientras que los últimos tienen una duración de 365 días.\n",
    "\n",
    "Desde la introducción del calendario Gregoriano (en 1582), se utiliza la siguiente regla para determinar el tipo de año:\n",
    "\n",
    "si el número del año no es divisible entre cuatro, es un año común.\n",
    "de lo contrario, si el número del año no es divisible entre 100, es un año bisiesto.\n",
    "de lo contrario, si el número del año no es divisible entre 400, es un año común.\n",
    "de lo contrario, es un año bisiesto.\n",
    "Observa el código en el editor - solo lee un número de año y debe completarse con las instrucciones que implementan la prueba que acabamos de describir.\n",
    "\n",
    "El código debe mostrar uno de los dos mensajes posibles, que son Año Bisiesto o Año Común, según el valor ingresado.\n",
    "\n",
    "Sería bueno verificar si el año ingresado cae en la era Gregoriana y emitir una advertencia de lo contrario: No dentro del período del calendario Gregoriano. Consejo: utiliza los operadores != y %.\n"
   ]
  },
  {
   "cell_type": "code",
   "execution_count": 40,
   "metadata": {},
   "outputs": [
    {
     "name": "stdout",
     "output_type": "stream",
     "text": [
      "El ESPATIFILO es la mejor planta del mundo\n"
     ]
    }
   ],
   "source": [
    "entrada = input(\"Escribe la palabra\")\n",
    "\n",
    "if entrada == \"ESPATIFILO\":\n",
    "        print(\"El ESPATIFILO es la mejor planta del mundo\")\n",
    "\n",
    "elif entrada == \"espatifilo\":\n",
    "        print(\"No, Quiero un gran ESPATIFILO\")\n",
    "\n",
    "else:\n",
    "        print(\"No es un espatifilo\")\n"
   ]
  },
  {
   "cell_type": "code",
   "execution_count": 44,
   "metadata": {},
   "outputs": [
    {
     "ename": "TypeError",
     "evalue": "'<=' not supported between instances of 'str' and 'int'",
     "output_type": "error",
     "traceback": [
      "\u001b[1;31m---------------------------------------------------------------------------\u001b[0m",
      "\u001b[1;31mTypeError\u001b[0m                                 Traceback (most recent call last)",
      "Cell \u001b[1;32mIn[44], line 3\u001b[0m\n\u001b[0;32m      1\u001b[0m ingreso \u001b[38;5;241m=\u001b[39m \u001b[38;5;28minput\u001b[39m(\u001b[38;5;124m\"\u001b[39m\u001b[38;5;124mIngresa el impuesto\u001b[39m\u001b[38;5;124m\"\u001b[39m)\n\u001b[1;32m----> 3\u001b[0m \u001b[38;5;28;01mif\u001b[39;00m \u001b[38;5;28mfloat\u001b[39m(\u001b[43mingreso\u001b[49m\u001b[43m \u001b[49m\u001b[38;5;241;43m<\u001b[39;49m\u001b[38;5;241;43m=\u001b[39;49m\u001b[43m \u001b[49m\u001b[38;5;241;43m58528\u001b[39;49m):\n\u001b[0;32m      4\u001b[0m         impuesto \u001b[38;5;241m=\u001b[39m \u001b[38;5;241m0.18\u001b[39m \u001b[38;5;241m*\u001b[39m ingreso \u001b[38;5;241m-\u001b[39m \u001b[38;5;241m556.02\u001b[39m\n\u001b[0;32m      5\u001b[0m \u001b[38;5;28;01melse\u001b[39;00m:\n",
      "\u001b[1;31mTypeError\u001b[0m: '<=' not supported between instances of 'str' and 'int'"
     ]
    }
   ],
   "source": [
    "ingreso = input(\"Ingresa el impuesto\")\n",
    "\n",
    "if float(ingreso <= 58528):\n",
    "        impuesto = 0.18 * ingreso - 556.02\n",
    "else:\n",
    "        excedente = ingreso - 58528\n",
    "        impuesto = 14839.02 + 0.32 * excedente\n",
    "print(f\"El impuesto es {ingreso}\")\n"
   ]
  }
 ],
 "metadata": {
  "kernelspec": {
   "display_name": "Python 3",
   "language": "python",
   "name": "python3"
  },
  "language_info": {
   "codemirror_mode": {
    "name": "ipython",
    "version": 3
   },
   "file_extension": ".py",
   "mimetype": "text/x-python",
   "name": "python",
   "nbconvert_exporter": "python",
   "pygments_lexer": "ipython3",
   "version": "3.12.2"
  }
 },
 "nbformat": 4,
 "nbformat_minor": 2
}
