{
 "cells": [
  {
   "cell_type": "markdown",
   "metadata": {},
   "source": [
    "## Reto 1: Series\n",
    "\n",
    "### 1. Objetivos:\n",
    "    - Practicar la creación de `Series` y la indexación básica de éstas\n",
    " \n",
    "---\n",
    "    \n",
    "### 2. Desarrollo:"
   ]
  },
  {
   "cell_type": "code",
   "execution_count": 1,
   "metadata": {},
   "outputs": [],
   "source": [
    "import pandas as pd"
   ]
  },
  {
   "cell_type": "markdown",
   "metadata": {},
   "source": [
    "#### a) Creación de `Series`\n",
    "\n",
    "A continuación tenemos unas variables que contienen los nombres de los ejecutivos más importantes de nuestra ya conocida EyePoker Inc. Debajo de eso hay una variable que no ha sido asignada aún:"
   ]
  },
  {
   "cell_type": "code",
   "execution_count": null,
   "metadata": {},
   "outputs": [],
   "source": [
    "ejecutivo_1 = 'Marco P.'\n",
    "ejecutivo_2 = 'Jenny'\n",
    "ejecutivo_3 = 'Britney Baby'\n",
    "ejecutivo_4 = 'Pepe Guardabosques'\n",
    "ejecutivo_5 = 'Lombardo El Destructor'\n",
    "\n",
    "sueldos ="
   ]
  },
  {
   "cell_type": "markdown",
   "metadata": {},
   "source": [
    "Tu tarea es crear una `Serie` de `pandas` y asignarla a la variable `sueldos`. La información que hay dentro de esta variable son (oh, sorpresa) los sueldos de dichos ejecutivos.\n",
    "\n",
    "Los valores de la `Serie` serán los sueldos, mientras que el índice de la `Serie` serán los nombres de los ejecutivos.\n",
    "\n",
    "Crea una `Serie` y asígnala a `sueldos` de manera que el código que tenemos debajo funcione correctamente:"
   ]
  },
  {
   "cell_type": "code",
   "execution_count": null,
   "metadata": {},
   "outputs": [],
   "source": [
    "print('== Sueldos de los principales ejecutivos de EyePoker Inc. ==\\n')\n",
    "\n",
    "print(f'{(\"Ejecutivo\"):25} | {(\"Sueldo\")}')\n",
    "print('----------------------------------------')\n",
    "print(f'{ejecutivo_1:25} | ${(sueldos.loc[ejecutivo_1])} MXN')\n",
    "print(f'{ejecutivo_2:25} | ${(sueldos.loc[ejecutivo_2])} MXN')\n",
    "print(f'{ejecutivo_3:25} | ${(sueldos.loc[ejecutivo_3])} MXN')\n",
    "print(f'{ejecutivo_4:25} | ${(sueldos.loc[ejecutivo_4])} MXN')\n",
    "print(f'{ejecutivo_5:25} | ${(sueldos.loc[ejecutivo_5])} MXN')"
   ]
  },
  {
   "cell_type": "code",
   "execution_count": 5,
   "metadata": {},
   "outputs": [
    {
     "name": "stdout",
     "output_type": "stream",
     "text": [
      "== Sueldos de los principales ejecutivos de EyePoker Inc. ==\n",
      "\n",
      "Ejecutivo                 | Sueldo\n",
      "----------------------------------------\n",
      "Marco P.                  | $50000 MXN\n",
      "Jenny                     | $60000 MXN\n",
      "Britney Baby              | $55000 MXN\n",
      "Pepe Guardabosques        | $52000 MXN\n",
      "Lombardo El Destructor    | $58000 MXN\n"
     ]
    }
   ],
   "source": [
    "import pandas as pd\n",
    "\n",
    "\n",
    "ejecutivo_1 = 'Marco P.'\n",
    "ejecutivo_2 = 'Jenny'\n",
    "ejecutivo_3 = 'Britney Baby'\n",
    "ejecutivo_4 = 'Pepe Guardabosques'\n",
    "ejecutivo_5 = 'Lombardo El Destructor'\n",
    "\n",
    "\n",
    "sueldos = pd.Series(\n",
    "    [50000, 60000, 55000, 52000, 58000], \n",
    "    index=[ejecutivo_1, ejecutivo_2, ejecutivo_3, ejecutivo_4, ejecutivo_5]\n",
    ")\n",
    "\n",
    "print('== Sueldos de los principales ejecutivos de EyePoker Inc. ==\\n')\n",
    "\n",
    "print(f'{\"Ejecutivo\":25} | {\"Sueldo\"}')\n",
    "print('----------------------------------------')\n",
    "print(f'{ejecutivo_1:25} | ${sueldos.loc[ejecutivo_1]} MXN')\n",
    "print(f'{ejecutivo_2:25} | ${sueldos.loc[ejecutivo_2]} MXN')\n",
    "print(f'{ejecutivo_3:25} | ${sueldos.loc[ejecutivo_3]} MXN')\n",
    "print(f'{ejecutivo_4:25} | ${sueldos.loc[ejecutivo_4]} MXN')\n",
    "print(f'{ejecutivo_5:25} | ${sueldos.loc[ejecutivo_5]} MXN')"
   ]
  }
 ],
 "metadata": {
  "kernelspec": {
   "display_name": "Python 3",
   "language": "python",
   "name": "python3"
  },
  "language_info": {
   "codemirror_mode": {
    "name": "ipython",
    "version": 3
   },
   "file_extension": ".py",
   "mimetype": "text/x-python",
   "name": "python",
   "nbconvert_exporter": "python",
   "pygments_lexer": "ipython3",
   "version": "3.12.2"
  }
 },
 "nbformat": 4,
 "nbformat_minor": 4
}
