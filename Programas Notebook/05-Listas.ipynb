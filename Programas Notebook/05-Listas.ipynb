{
 "cells": [
  {
   "cell_type": "markdown",
   "metadata": {},
   "source": [
    "## Listas\n",
    "\n"
   ]
  },
  {
   "cell_type": "code",
   "execution_count": 54,
   "metadata": {},
   "outputs": [
    {
     "name": "stdout",
     "output_type": "stream",
     "text": [
      "Mi primer lista en python: [10, True, 14.25, 'Puerta', 12]\n"
     ]
    }
   ],
   "source": [
    "x = [10, True, 14.25, 'Puerta', 3*4]\n",
    "print(f\"Mi primer lista en python: {x}\")"
   ]
  },
  {
   "cell_type": "code",
   "execution_count": 55,
   "metadata": {},
   "outputs": [
    {
     "name": "stdout",
     "output_type": "stream",
     "text": [
      "Mi primer lista en python: [10, True, 14.25, 'Puerta', 12]\n",
      "El valor de la posicion 0 es: 10\n",
      "El valor de la posicion 4 es: 12\n",
      "El valor de la posicion 4 es: 12\n",
      "El valor de la posicion 2 es: True\n"
     ]
    }
   ],
   "source": [
    "x = [10, True, 14.25, 'Puerta', 3*4]\n",
    "print(f\"Mi primer lista en python: {x}\")\n",
    "print(f\"El valor de la posicion 0 es: {x[0]}\")\n",
    "print(f\"El valor de la posicion 4 es: {x[4]}\")\n",
    "print(f\"El valor de la posicion 4 es: {x[-1]}\")\n",
    "print(f\"El valor de la posicion 2 es: {x[1]}\")\n",
    "\n"
   ]
  },
  {
   "cell_type": "markdown",
   "metadata": {},
   "source": [
    "# Indexacion de Listas\n",
    "Vamos a asignar un nuevo valor de 111 al primer elemento en la lita. Lo hacemos de esta manera:"
   ]
  },
  {
   "cell_type": "code",
   "execution_count": 56,
   "metadata": {},
   "outputs": [
    {
     "name": "stdout",
     "output_type": "stream",
     "text": [
      "Contenido de la lista: [10, 5, 7, 2, 1]\n",
      "Contenide la lista : 10\n",
      "Contenido de la lista modificada: [111, 5, 7, 2, 1]\n"
     ]
    }
   ],
   "source": [
    "numbers = [10,5,7,2,1]\n",
    "# IMprimir el contenido de la lista original\n",
    "print(f\"Contenido de la lista: {numbers}\")\n",
    "print(f\"Contenide la lista : {numbers[0]}\")\n",
    "numbers[0]= 111\n",
    "print(f\"Contenido de la lista modificada: {numbers}\")"
   ]
  },
  {
   "cell_type": "markdown",
   "metadata": {},
   "source": [
    "Ahora queremos copiar el valor del quinto elemento al segundo elemento-¿Puedes adivinar como hacerlo?"
   ]
  },
  {
   "cell_type": "code",
   "execution_count": 57,
   "metadata": {},
   "outputs": [
    {
     "name": "stdout",
     "output_type": "stream",
     "text": [
      "La lisata original es: [10, 5, 6, 2, 1]\n",
      "Contenido de la lista nueva: [111, 5, 6, 2, 1]\n",
      "Contenido de la lista: [111, 1, 6, 2, 1]\n"
     ]
    }
   ],
   "source": [
    "numbers = [10,5,6,2,1]\n",
    "#Contenido de la lista original\n",
    "print(f\"La lisata original es: {numbers}\")\n",
    "numbers[0]= 111\n",
    "print(f\"Contenido de la lista nueva: {numbers}\")\n",
    "#Copia del valor del quinto elemento al segundo\n",
    "numbers[1]= numbers[4]\n",
    "print(f\"Contenido de la lista: {numbers}\")\n",
    "\n"
   ]
  },
  {
   "cell_type": "markdown",
   "metadata": {},
   "source": [
    "## Acceso al contenido de las listas\n",
    "Se puede acceder a cada uno de los elementos de la lista por separado. Por ejemplo, se puede imprimir:"
   ]
  },
  {
   "cell_type": "code",
   "execution_count": 58,
   "metadata": {},
   "outputs": [
    {
     "data": {
      "text/plain": [
       "[111, 1, 6, 2, 1]"
      ]
     },
     "execution_count": 58,
     "metadata": {},
     "output_type": "execute_result"
    }
   ],
   "source": [
    "numbers"
   ]
  },
  {
   "cell_type": "code",
   "execution_count": 59,
   "metadata": {},
   "outputs": [
    {
     "name": "stdout",
     "output_type": "stream",
     "text": [
      "111\n"
     ]
    }
   ],
   "source": [
    "print(numbers[0])"
   ]
  },
  {
   "cell_type": "markdown",
   "metadata": {},
   "source": [
    "Supponiendo que todas las operacones ateriores se aan compleatado con exito el fragmento enviara 111 a la consola"
   ]
  },
  {
   "cell_type": "code",
   "execution_count": 60,
   "metadata": {},
   "outputs": [
    {
     "name": "stdout",
     "output_type": "stream",
     "text": [
      "Contenido de la lista original: [10, 5, 7, 2, 1]\n",
      "[111, 5, 7, 2, 1]\n",
      "[111, 5, 7, 2, 111]\n"
     ]
    }
   ],
   "source": [
    "numbers = [10, 5, 7, 2, 1]\n",
    "print(\"Contenido de la lista original:\", numbers) #Impromiendo el contenido de la lista original\n",
    "\n",
    "numbers[0] = 111\n",
    "\n",
    "print(numbers)\n",
    "\n",
    "numbers[4] = numbers[0]\n",
    "numbers[4] = numbers[-5]\n",
    "\n",
    "print(numbers)"
   ]
  },
  {
   "cell_type": "markdown",
   "metadata": {},
   "source": [
    "## Eliminando elementos de una lista\n",
    "\n",
    "Cualquier elemento de la lista puede ser eliminado en cualquier momento - esto se hace con una instrucción llamada del (eliminar). Nota: es una instrucción, no una función.\n",
    "\n",
    "Tienes que apuntar al elemento que quieres eliminar - desaparecerá de la lista y la longitud de la lista se reducirá en uno.\n",
    "\n",
    "Mira el fragmento de abajo. ¿Puedes adivinar qué output producirá? Ejecuta el programa en el editor y comprueba."
   ]
  },
  {
   "cell_type": "code",
   "execution_count": 61,
   "metadata": {},
   "outputs": [
    {
     "data": {
      "text/plain": [
       "[3, 5, 7, 2, 111]"
      ]
     },
     "execution_count": 61,
     "metadata": {},
     "output_type": "execute_result"
    }
   ],
   "source": [
    "numbers[0] =3\n",
    "numbers "
   ]
  },
  {
   "cell_type": "code",
   "execution_count": 62,
   "metadata": {},
   "outputs": [
    {
     "data": {
      "text/plain": [
       "[3, 5, 7, 2]"
      ]
     },
     "execution_count": 62,
     "metadata": {},
     "output_type": "execute_result"
    }
   ],
   "source": [
    "del numbers[4]\n",
    "numbers"
   ]
  },
  {
   "cell_type": "code",
   "execution_count": 63,
   "metadata": {},
   "outputs": [
    {
     "data": {
      "text/plain": [
       "[3, 5, 7, 2, 111]"
      ]
     },
     "execution_count": 63,
     "metadata": {},
     "output_type": "execute_result"
    }
   ],
   "source": [
    "numbers = [3, 5, 7, 2, 111]\n",
    "numbers"
   ]
  },
  {
   "cell_type": "markdown",
   "metadata": {},
   "source": [
    "## Los índices negativos son legales\n",
    "\n",
    "Puede parecer extraño, pero los índices negativos son válidos, y pueden ser muy útiles.\n",
    "\n",
    "Un elemento con un índice igual a -1 es el último en la lista."
   ]
  },
  {
   "cell_type": "code",
   "execution_count": 64,
   "metadata": {},
   "outputs": [
    {
     "name": "stdout",
     "output_type": "stream",
     "text": [
      "111\n",
      "2\n",
      "7\n",
      "5\n",
      "3\n"
     ]
    }
   ],
   "source": [
    "print(numbers[-1])\n",
    "print(numbers[-2])\n",
    "print(numbers[-3])\n",
    "print(numbers[-4])\n",
    "print(numbers[-5])"
   ]
  },
  {
   "cell_type": "code",
   "execution_count": 65,
   "metadata": {},
   "outputs": [
    {
     "data": {
      "text/plain": [
       "[3, 5, 7, 2, 111]"
      ]
     },
     "execution_count": 65,
     "metadata": {},
     "output_type": "execute_result"
    }
   ],
   "source": [
    "numbers"
   ]
  },
  {
   "cell_type": "code",
   "execution_count": 66,
   "metadata": {},
   "outputs": [],
   "source": [
    "del numbers[-2]"
   ]
  },
  {
   "cell_type": "code",
   "execution_count": 67,
   "metadata": {},
   "outputs": [
    {
     "data": {
      "text/plain": [
       "[3, 5, 7, 111]"
      ]
     },
     "execution_count": 67,
     "metadata": {},
     "output_type": "execute_result"
    }
   ],
   "source": [
    "numbers"
   ]
  },
  {
   "cell_type": "markdown",
   "metadata": {},
   "source": [
    "# LAB Los fundamentos de las listas\n",
    "\n",
    "Escenario\n",
    "Había una vez un sombrero. El sombrero no contenía conejo, sino una lista de cinco números: 1, 2, 3, 4, y 5.\n",
    "\n",
    "Tu tarea es:\n",
    "\n",
    "1. escribir una línea de código que solicite al usuario que reemplace el número central en la lista con un número entero ingresado por el usuario (Paso 1)\n",
    "2. escribir una línea de código que elimine el último elemento de la lista (Paso 2)\n",
    "1. escribir una línea de código que imprima la longitud de la lista existente (Paso 3).\n",
    "1. ¿Listo para este desafío?"
   ]
  },
  {
   "cell_type": "code",
   "execution_count": 75,
   "metadata": {},
   "outputs": [
    {
     "name": "stdout",
     "output_type": "stream",
     "text": [
      "La lonitud de la lista es 4\n",
      "[1, 2, 4, 4]\n"
     ]
    }
   ],
   "source": [
    "Num_Sombreros = [1,2,3,4,5]\n",
    "\n",
    "Nuevo_Numero = int(input(\"Introduce el nuevo numero que vas a remplazar:\" ))\n",
    "Num_Sombreros[2] = Nuevo_Numero\n",
    "del Num_Sombreros[-1]\n",
    "\n",
    "print(f\"La lonitud de la lista es {len(Num_Sombreros)}\")\n",
    "print(Num_Sombreros)"
   ]
  },
  {
   "cell_type": "markdown",
   "metadata": {},
   "source": [
    "## Funciones vs métodos\n",
    "Un método es un tipo específico de función - se comporta como una función y se parece a una función, pero difiere en la forma en que actúa y en su estilo de invocación.\n",
    "\n",
    "Una función no pertenece a ningún dato - obtiene datos, puede crear nuevos datos y (generalmente) produce un resultado.\n",
    "\n",
    "Un método hace todas estas cosas, pero también puede cambiar el estado de una entidad seleccionada.\n",
    "\n",
    "Un método es propiedad de los datos para los que trabaja, mientras que una función es propiedad de todo el código.\n",
    "\n",
    "Esto también significa que invocar un método requiere alguna especificación de los datos a partir de los cuales se invoca el método.\n",
    "\n",
    "Puede parecer desconcertante aquí, pero lo trataremos en profundidad cuando profundicemos en la programación orientada a objetos.\n",
    "\n",
    "En general, una invocación de función típica puede tener este aspecto:\n",
    "\n",
    "result = function(arg)\n",
    "\n",
    "La función toma un argumento, hace algo, y devuelve un resultado.\n",
    "\n",
    "Una invocación de un método típico usualmente se ve así:\n",
    "\n",
    "result = data.method(arg)\n",
    "\n",
    "Nota: el nombre del método está precedido por el nombre de los datos que posee el método. A continuación, se agrega un punto, seguido del nombre del método y un par de paréntesis que encierran los argumentos.\n",
    "\n",
    "El método se comportará como una función, pero puede hacer algo más - puede cambiar el estado interno de los datos a partir de los cuales se ha invocado"
   ]
  },
  {
   "cell_type": "code",
   "execution_count": 76,
   "metadata": {},
   "outputs": [
    {
     "data": {
      "text/plain": [
       "[3, 5, 7, 111]"
      ]
     },
     "execution_count": 76,
     "metadata": {},
     "output_type": "execute_result"
    }
   ],
   "source": [
    "numbers"
   ]
  },
  {
   "cell_type": "code",
   "execution_count": 78,
   "metadata": {},
   "outputs": [
    {
     "data": {
      "text/plain": [
       "4"
      ]
     },
     "execution_count": 78,
     "metadata": {},
     "output_type": "execute_result"
    }
   ],
   "source": [
    "tam = len(numbers) # LA funcion len\n",
    "tam"
   ]
  },
  {
   "cell_type": "code",
   "execution_count": 80,
   "metadata": {},
   "outputs": [
    {
     "data": {
      "text/plain": [
       "['Arcadia', True, 'Agapito', 9, 9.8, 10.0]"
      ]
     },
     "execution_count": 80,
     "metadata": {},
     "output_type": "execute_result"
    }
   ],
   "source": [
    "lista = ['Arcadia', True,'Agapito',9,9.8,10.]\n",
    "lista"
   ]
  },
  {
   "cell_type": "code",
   "execution_count": 81,
   "metadata": {},
   "outputs": [
    {
     "data": {
      "text/plain": [
       "['Arcadia', True, 'Agapito', 9, 9.8, 10.0, 'Monico']"
      ]
     },
     "execution_count": 81,
     "metadata": {},
     "output_type": "execute_result"
    }
   ],
   "source": [
    "lista.append(\"Monico\")\n",
    "lista"
   ]
  },
  {
   "cell_type": "code",
   "execution_count": 82,
   "metadata": {},
   "outputs": [
    {
     "name": "stdout",
     "output_type": "stream",
     "text": [
      "['Arcadia', True, 'Agapito', 9, 9.8, 10.0, 'Monico', [1, 2, 3, 4, 5]]\n"
     ]
    }
   ],
   "source": [
    "len(lista)\n",
    "lista.append([1,2,3,4,5])\n",
    "len(lista)\n",
    "print(lista)"
   ]
  },
  {
   "cell_type": "code",
   "execution_count": 84,
   "metadata": {},
   "outputs": [
    {
     "data": {
      "text/plain": [
       "[1, 2, 3, 4, 5]"
      ]
     },
     "execution_count": 84,
     "metadata": {},
     "output_type": "execute_result"
    }
   ],
   "source": [
    "lista[-1]"
   ]
  },
  {
   "cell_type": "code",
   "execution_count": 85,
   "metadata": {},
   "outputs": [
    {
     "data": {
      "text/plain": [
       "[1, 2, 3, 4, 5]"
      ]
     },
     "execution_count": 85,
     "metadata": {},
     "output_type": "execute_result"
    }
   ],
   "source": [
    "lista[7]"
   ]
  },
  {
   "cell_type": "code",
   "execution_count": 87,
   "metadata": {},
   "outputs": [
    {
     "data": {
      "text/plain": [
       "[1, 2, 3, 4, 5]"
      ]
     },
     "execution_count": 87,
     "metadata": {},
     "output_type": "execute_result"
    }
   ],
   "source": [
    "n= len(lista) -1\n",
    "lista[n]"
   ]
  },
  {
   "cell_type": "code",
   "execution_count": 91,
   "metadata": {},
   "outputs": [
    {
     "data": {
      "text/plain": [
       "3"
      ]
     },
     "execution_count": 91,
     "metadata": {},
     "output_type": "execute_result"
    }
   ],
   "source": [
    "lista[7][2]"
   ]
  },
  {
   "cell_type": "code",
   "execution_count": 90,
   "metadata": {},
   "outputs": [
    {
     "data": {
      "text/plain": [
       "3"
      ]
     },
     "execution_count": 90,
     "metadata": {},
     "output_type": "execute_result"
    }
   ],
   "source": [
    "lista[-1][-3]"
   ]
  },
  {
   "cell_type": "code",
   "execution_count": 92,
   "metadata": {},
   "outputs": [],
   "source": [
    "lista.insert(1,\"Juan\")"
   ]
  },
  {
   "cell_type": "code",
   "execution_count": 93,
   "metadata": {},
   "outputs": [
    {
     "name": "stdout",
     "output_type": "stream",
     "text": [
      "['Arcadia', 'Juan', True, 'Agapito', 9, 9.8, 10.0, 'Monico', [1, 2, 3, 4, 5]]\n"
     ]
    }
   ],
   "source": [
    "print(lista)"
   ]
  },
  {
   "cell_type": "code",
   "execution_count": 100,
   "metadata": {},
   "outputs": [],
   "source": [
    "lista.insert(-1,\"Eden\")"
   ]
  },
  {
   "cell_type": "code",
   "execution_count": 101,
   "metadata": {},
   "outputs": [
    {
     "name": "stdout",
     "output_type": "stream",
     "text": [
      "['Arcadia', 'Juan', True, 'Agapito', 9, 9.8, 'Agua', 'Agua', 'Eden', 10.0, 'Monico', 'Eden', [1, 2, 3, 4, 5]]\n"
     ]
    }
   ],
   "source": [
    "print(lista)"
   ]
  },
  {
   "cell_type": "code",
   "execution_count": 102,
   "metadata": {},
   "outputs": [
    {
     "name": "stdout",
     "output_type": "stream",
     "text": [
      "['Arcadia', 'Juan', True, 'Agapito', 9, 9.8, 'Agua', 'Agua', 'Eden', 10.0, 'Monico', 'Eden', True, [1, 2, 3, 4, 5]]\n"
     ]
    }
   ],
   "source": [
    "lista.insert(-1,True)\n",
    "print(lista)"
   ]
  },
  {
   "cell_type": "code",
   "execution_count": 105,
   "metadata": {},
   "outputs": [
    {
     "name": "stdout",
     "output_type": "stream",
     "text": [
      "[1, 2, 3, 4, 5, 6, 7, 8, 9, 10]\n"
     ]
    }
   ],
   "source": [
    "lista2 = []\n",
    "\n",
    "for i in range(10):\n",
    "    lista2.append(i + 1)\n",
    "\n",
    "print(lista2)"
   ]
  },
  {
   "cell_type": "code",
   "execution_count": 107,
   "metadata": {},
   "outputs": [
    {
     "name": "stdout",
     "output_type": "stream",
     "text": [
      "[10, 9, 8, 7, 6, 5, 4, 3, 2, 1]\n"
     ]
    }
   ],
   "source": [
    "lista2 = []\n",
    "\n",
    "for i in range(10):\n",
    "    lista2.insert(0, i+1)\n",
    "print(lista2)"
   ]
  },
  {
   "cell_type": "markdown",
   "metadata": {},
   "source": [
    "## Haciendo uso de las listas"
   ]
  },
  {
   "cell_type": "code",
   "execution_count": 108,
   "metadata": {},
   "outputs": [
    {
     "name": "stdout",
     "output_type": "stream",
     "text": [
      "La lista es: [5, 7, 9, 32] y Su suma es 53\n"
     ]
    }
   ],
   "source": [
    "##Sumar los valores que estan contenidos en una lista\n",
    "#1.-solicitar cuantos numeros van a ser ingresados a la lista\n",
    "n = int(input(\"introduce el numero de valores para la lista:\"))\n",
    "#2.-llenar la lista con valores numericos introducidos por el usuario\n",
    "numeros = []\n",
    "for i in range(n):\n",
    "    n = int(input(f\"introduce el valor numero {i+1}\"))\n",
    "    numeros.append(n)\n",
    "#3.-Sumar los datos que estan en la lista\n",
    "suma = 0\n",
    "for i in numeros:\n",
    "    suma+=i\n",
    "#4.-Imprimir la lista y su suma\n",
    "print(f\"La lista es: {numeros} y Su suma es: {suma}\")\n"
   ]
  },
  {
   "cell_type": "code",
   "execution_count": 109,
   "metadata": {},
   "outputs": [],
   "source": [
    "def solicitarTamanio():\n",
    "    n = int(input(\"introduce el numero de valores para la lista:\"))\n",
    "    return n"
   ]
  },
  {
   "cell_type": "code",
   "execution_count": 113,
   "metadata": {},
   "outputs": [],
   "source": [
    "def llenarValores(numeros,n):\n",
    "    for i in range(n):\n",
    "        n = int(input(f\"Introduce el valor numero{i+1}\"))\n",
    "        numeros.append(n)"
   ]
  },
  {
   "cell_type": "code",
   "execution_count": 115,
   "metadata": {},
   "outputs": [],
   "source": [
    "def sumar(numeros):\n",
    "    suma = 0\n",
    "    for i in numeros:\n",
    "        suma+=i\n",
    "    return suma"
   ]
  },
  {
   "cell_type": "code",
   "execution_count": 116,
   "metadata": {},
   "outputs": [],
   "source": [
    "def imprimir(numeros, suma):\n",
    "    print(f\"La lista es: {numeros} y Su suma es: {suma}\")"
   ]
  },
  {
   "cell_type": "code",
   "execution_count": 117,
   "metadata": {},
   "outputs": [
    {
     "name": "stdout",
     "output_type": "stream",
     "text": [
      "La lista es: [6, 7, 8, 9, 8] y Su suma es: 38\n"
     ]
    }
   ],
   "source": [
    "n = solicitarTamanio()\n",
    "lista3= []\n",
    "llenarValores (lista3,n)\n",
    "suma = sumar(lista3)\n",
    "imprimir(lista3,suma)"
   ]
  },
  {
   "cell_type": "markdown",
   "metadata": {},
   "source": [
    "# Listas en accion\n",
    "\n",
    "Imagina que necesitas reorganizar los elementos de una lista, es decir, revertir el orden de los elementos: el primero y el quinto, así como el segundo y cuarto elementos serán intercambiados. El tercero permanecerá intacto.\n",
    "\n",
    "Pregunta: ¿cómo se pueden intercambiar los valores de dos variables?\n",
    "\n",
    "Echa un vistazo al fragmento:\n",
    "\n",
    "```python\n",
    "variable_1 = 1\n",
    "variable_2 = 2\n",
    "\n",
    "variable_2 = variable_1\n",
    "variable_1 = variable_2\n",
    "```\n",
    "\n",
    "Si haces algo como esto, perderás el valor previamente almacenado en variable_2. Cambiar el orden de las tareas no ayudará. Necesitas una tercera variable que sirva como almacenamiento auxiliar."
   ]
  },
  {
   "cell_type": "code",
   "execution_count": 2,
   "metadata": {},
   "outputs": [
    {
     "name": "stdout",
     "output_type": "stream",
     "text": [
      "1 1\n"
     ]
    }
   ],
   "source": [
    "variable = 1\n",
    "variable2 = 2\n",
    "\n",
    "variable2 = variable\n",
    "variable = variable2\n",
    "\n",
    "print(variable, variable2)"
   ]
  },
  {
   "cell_type": "code",
   "execution_count": 4,
   "metadata": {},
   "outputs": [
    {
     "name": "stdout",
     "output_type": "stream",
     "text": [
      "2 1\n"
     ]
    }
   ],
   "source": [
    "variable = 1\n",
    "variable2 = 2\n",
    "\n",
    "aux = variable2\n",
    "variable2 = variable\n",
    "variable = aux\n",
    "\n",
    "print(variable, variable2)"
   ]
  },
  {
   "cell_type": "code",
   "execution_count": 5,
   "metadata": {},
   "outputs": [
    {
     "name": "stdout",
     "output_type": "stream",
     "text": [
      "1 2\n"
     ]
    }
   ],
   "source": [
    "variable = 1\n",
    "variable = 2\n",
    "\n",
    "variable, variable2 = variable2, variable\n",
    "\n",
    "print(variable,variable2)"
   ]
  },
  {
   "cell_type": "code",
   "execution_count": 8,
   "metadata": {},
   "outputs": [
    {
     "name": "stdout",
     "output_type": "stream",
     "text": [
      "[5, 3, 8, 1, 10]\n"
     ]
    }
   ],
   "source": [
    "# revertir el orden de la lista\n",
    "\n",
    "mi_lista = [10, 1, 8, 3, 5] \n",
    "mi_lista_revertida = []\n",
    "\n",
    "for i in range(len(mi_lista) - 1, -1, -1):\n",
    "    mi_lista_revertida.append(mi_lista[i])\n",
    "\n",
    "print(mi_lista_revertida)"
   ]
  },
  {
   "cell_type": "code",
   "execution_count": 9,
   "metadata": {},
   "outputs": [
    {
     "name": "stdout",
     "output_type": "stream",
     "text": [
      "[5, 1, 8, 3, 10]\n"
     ]
    }
   ],
   "source": [
    "milista = [10,1,8,3,5]\n",
    "milista[0], milista[4] = milista[4],milista[0]\n",
    "milista[1], milista[1] = milista[3],milista[1]\n",
    "\n",
    "print(milista)"
   ]
  },
  {
   "cell_type": "markdown",
   "metadata": {},
   "source": [
    "## LAB   Los fundamentos de las listas: los Beatles\n",
    "\n",
    "\n",
    "\n",
    "Los Beatles fueron uno de los grupos de música más populares de la década de 1960 y la banda más vendida en la historia. Algunas personas los consideran el acto más influyente de la era del rock. De hecho, se incluyeron en la compilación de la revista Time de las 100 personas más influyentes del siglo XX.\n",
    "\n",
    "La banda sufrió muchos cambios de formación, que culminaron en 1962 con la formación de John Lennon, Paul McCartney, George Harrison y Richard Starkey (mejor conocido como Ringo Starr).\n",
    "\n",
    "\n",
    "Escribe un programa que refleje estos cambios y le permita practicar con el concepto de listas. Tu tarea es:\n",
    "\n",
    "- paso 1: crea una lista vacía llamada beatles;\n",
    "- paso 2: emplea el método append() para agregar los siguientes miembros de la banda a la lista: John Lennon, Paul McCartney y George Harrison;\n",
    "- paso 3: emplea el buclefor y el append() para pedirle al usuario que agregue los siguientes miembros de la banda a la lista: Stu Sutcliffe, y Pete Best;\n",
    "- paso 4: usa la instrucción del para eliminar a Stu Sutcliffe y Pete Best de la lista;\n",
    "- paso 5: usa el método insert() para agregar a Ringo Starr al principio de la lista.\n",
    "\n",
    "Por cierto, ¿eres fan de los Beatles? (Los Beatles son una de las bandas favoritas de Greg. Pero espera...¿Quién es Greg?)"
   ]
  },
  {
   "cell_type": "code",
   "execution_count": 13,
   "metadata": {},
   "outputs": [
    {
     "name": "stdout",
     "output_type": "stream",
     "text": [
      "['Ringo Starr', 'John Lennon', 'Paul MacCartney', 'Gorge Harrison'] Matar a John lennon\n"
     ]
    }
   ],
   "source": [
    "#- paso 1: crea una lista vacía llamada beatles;\n",
    "beatles = []\n",
    "#- paso 2: emplea el método append() para agregar los siguientes miembros de la banda a la lista: John Lennon, Paul McCartney y George Harrison;\n",
    "beatles.append(\"John Lennon\")\n",
    "beatles.append(\"Paul MacCartney\")\n",
    "beatles.append(\"Gorge Harrison\")\n",
    "#- paso 3: emplea el buclefor y el append() para pedirle al usuario que agregue los siguientes miembros de la banda a la lista: Stu Sutcliffe, y Pete Best;\n",
    "nuevos_miembros = [\"Stu Sutcliffe\", \"Peate\"]\n",
    "for miembro in nuevos_miembros:\n",
    "    beatles.append(miembro)\n",
    "#- paso 4: usa la instrucción del para eliminar a Stu Sutcliffe y Pete Best de la lista;\n",
    "del beatles[-1]\n",
    "del beatles[-1]\n",
    "#- paso 5: usa el método insert() para agregar a Ringo Starr al principio de la lista.\n",
    "beatles.insert(0, \"Ringo Starr\")\n",
    "\n",
    "print(beatles,\"Matar a John lennon\")"
   ]
  },
  {
   "cell_type": "code",
   "execution_count": 14,
   "metadata": {},
   "outputs": [
    {
     "ename": "SyntaxError",
     "evalue": "expected ':' (591274886.py, line 12)",
     "output_type": "error",
     "traceback": [
      "\u001b[1;36m  Cell \u001b[1;32mIn[14], line 12\u001b[1;36m\u001b[0m\n\u001b[1;33m    for miembro in range(2) #[\"Stu Sutcliffe\", \"Pete Best\"]:\u001b[0m\n\u001b[1;37m                            ^\u001b[0m\n\u001b[1;31mSyntaxError\u001b[0m\u001b[1;31m:\u001b[0m expected ':'\n"
     ]
    }
   ],
   "source": [
    "# Paso 1: Crear una lista vacía llamada beatles\n",
    "beatles = []\n",
    "print(\"Paso 1:\", beatles)\n",
    "\n",
    "# Paso 2: Usar el método append() para agregar a John Lennon, Paul McCartney y George Harrison\n",
    "beatles.append(\"John Lennon\")\n",
    "beatles.append(\"Paul McCartney\")\n",
    "beatles.append(\"George Harrison\")\n",
    "print(\"Paso 2:\", beatles)\n",
    "\n",
    "# Paso 3: Usar un bucle for y append() para pedirle al usuario que agregue a Stu Sutcliffe y Pete Best\n",
    "for i in range(2) #[\"Stu Sutcliffe\", \"Pete Best\"]:\n",
    "    beatles.append(i)\n",
    "print(\"Paso 3:\", beatles)\n",
    "\n",
    "# Paso 4: Usar la instrucción del para eliminar a Stu Sutcliffe y Pete Best\n",
    "del beatles[-1]  # Eliminar a Pete Best\n",
    "del beatles[-1]  # Eliminar a Stu Sutcliffe\n",
    "print(\"Paso 4:\", beatles)\n",
    "\n",
    "# Paso 5: Usar el método insert() para agregar a Ringo Starr al principio de la lista\n",
    "beatles.insert(0, \"Ringo Starr\")\n",
    "print(\"Paso 5:\", beatles)\n",
    "\n",
    "# Imprimir la lista final\n",
    "print(\"Lista final de los Beatles:\", beatles)"
   ]
  }
 ],
 "metadata": {
  "kernelspec": {
   "display_name": "Python 3",
   "language": "python",
   "name": "python3"
  },
  "language_info": {
   "codemirror_mode": {
    "name": "ipython",
    "version": 3
   },
   "file_extension": ".py",
   "mimetype": "text/x-python",
   "name": "python",
   "nbconvert_exporter": "python",
   "pygments_lexer": "ipython3",
   "version": "3.12.2"
  }
 },
 "nbformat": 4,
 "nbformat_minor": 2
}
